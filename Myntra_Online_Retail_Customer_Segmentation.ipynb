{
  "nbformat": 4,
  "nbformat_minor": 0,
  "metadata": {
    "colab": {
      "provenance": []
    },
    "kernelspec": {
      "name": "python3",
      "display_name": "Python 3"
    },
    "language_info": {
      "name": "python"
    }
  },
  "cells": [
    {
      "cell_type": "markdown",
      "source": [
        "## Myntra Online Retail Customer Segmentation"
      ],
      "metadata": {
        "id": "oKBpua3PgPmK"
      }
    },
    {
      "cell_type": "markdown",
      "source": [
        "**GitHub Repository:** [View Project on GitHub](https://github.com/Priyanka06-Design/Myntra-Customer-Segmentation)"
      ],
      "metadata": {
        "id": "-aZYsAlf04Rd"
      }
    },
    {
      "cell_type": "markdown",
      "source": [
        "# Online Retail EDA Project"
      ],
      "metadata": {
        "id": "Zt1aEeLkuMGl"
      }
    },
    {
      "cell_type": "markdown",
      "source": [
        "# Myntra Online Retail Customer Segmentation - Complete Project Notebook\n",
        "\n",
        "# 📌 1. Problem Statement & Business Context\n",
        "\"\"\"\n",
        "Problem Statement:\n",
        "To segment Myntra's online retail customers based on purchasing behavior using clustering techniques to support marketing, inventory planning, and product decisions.\n",
        "\n",
        "Business Context:\n",
        "Myntra Gifts Ltd. specializes in unique all-occasion giftware. This project uses historical online transaction data to:\n",
        "- Identify purchasing trends\n",
        "- Evaluate product performance\n",
        "- Understand customer behavior\n",
        "- Optimize pricing strategies\n",
        "- Streamline inventory management"
      ],
      "metadata": {
        "id": "3uMJDp51YPKj"
      }
    },
    {
      "cell_type": "markdown",
      "source": [
        "##2. Business Context\n",
        "Myntra, as an online retail platform, deals with large volumes of customer transaction data. Understanding customer segments can help:\n",
        "\n",
        "Improve customer retention.\n",
        "\n",
        "Personalize product recommendations.\n",
        "\n",
        "Identify high-value customers.\n",
        "\n",
        "Design targeted marketing campaigns."
      ],
      "metadata": {
        "id": "tGubNGzdkQD4"
      }
    },
    {
      "cell_type": "markdown",
      "source": [
        "## 3. Data Understanding\n",
        "Dataset: Transactional data from an online retail store.\n",
        "\n",
        "Columns: InvoiceNo, StockCode, Description, Quantity, InvoiceDate, UnitPrice, CustomerID, Country\n",
        "\n",
        "Goal: Group customers into segments based on their purchase behavior using RFM (Recency, Frequency, Monetary) and clustering methods.\n",
        "\n"
      ],
      "metadata": {
        "id": "8D5Popk3kYtu"
      }
    },
    {
      "cell_type": "markdown",
      "source": [
        "##4. Dataset Loading and Cleanup"
      ],
      "metadata": {
        "id": "EcgHzbaEkeTp"
      }
    },
    {
      "cell_type": "code",
      "source": [
        "# Step 1: Import Libraries\n",
        "import pandas as pd\n",
        "import numpy as np\n",
        "import matplotlib.pyplot as plt\n",
        "import seaborn as sns\n",
        "from google.colab import files\n",
        "from sklearn.preprocessing import StandardScaler\n",
        "from sklearn.cluster import KMeans\n",
        "from scipy.cluster.hierarchy import linkage, dendrogram\n",
        "from datetime import datetime\n"
      ],
      "metadata": {
        "id": "TJzcrYLNhXUw"
      },
      "execution_count": 7,
      "outputs": []
    },
    {
      "cell_type": "code",
      "source": [
        "%matplotlib inline\n",
        "sns.set(style='whitegrid')\n"
      ],
      "metadata": {
        "id": "IZ4tADwKhdcP"
      },
      "execution_count": 8,
      "outputs": []
    },
    {
      "cell_type": "code",
      "source": [
        "# Step 2: Upload File in Google Colab\n",
        "uploaded = files.upload()\n",
        "file_path = list(uploaded.keys())[0]  # Get the uploaded file name\n",
        "\n"
      ],
      "metadata": {
        "colab": {
          "base_uri": "https://localhost:8080/",
          "height": 90
        },
        "id": "OVZSbbj3hhbX",
        "outputId": "8a2dd7dd-fd3f-49fd-8536-468f734d1a53",
        "collapsed": true
      },
      "execution_count": 10,
      "outputs": [
        {
          "output_type": "display_data",
          "data": {
            "text/plain": [
              "<IPython.core.display.HTML object>"
            ],
            "text/html": [
              "\n",
              "     <input type=\"file\" id=\"files-9af9a9a1-143f-487c-b9d5-5a71f7e65b82\" name=\"files[]\" multiple disabled\n",
              "        style=\"border:none\" />\n",
              "     <output id=\"result-9af9a9a1-143f-487c-b9d5-5a71f7e65b82\">\n",
              "      Upload widget is only available when the cell has been executed in the\n",
              "      current browser session. Please rerun this cell to enable.\n",
              "      </output>\n",
              "      <script>// Copyright 2017 Google LLC\n",
              "//\n",
              "// Licensed under the Apache License, Version 2.0 (the \"License\");\n",
              "// you may not use this file except in compliance with the License.\n",
              "// You may obtain a copy of the License at\n",
              "//\n",
              "//      http://www.apache.org/licenses/LICENSE-2.0\n",
              "//\n",
              "// Unless required by applicable law or agreed to in writing, software\n",
              "// distributed under the License is distributed on an \"AS IS\" BASIS,\n",
              "// WITHOUT WARRANTIES OR CONDITIONS OF ANY KIND, either express or implied.\n",
              "// See the License for the specific language governing permissions and\n",
              "// limitations under the License.\n",
              "\n",
              "/**\n",
              " * @fileoverview Helpers for google.colab Python module.\n",
              " */\n",
              "(function(scope) {\n",
              "function span(text, styleAttributes = {}) {\n",
              "  const element = document.createElement('span');\n",
              "  element.textContent = text;\n",
              "  for (const key of Object.keys(styleAttributes)) {\n",
              "    element.style[key] = styleAttributes[key];\n",
              "  }\n",
              "  return element;\n",
              "}\n",
              "\n",
              "// Max number of bytes which will be uploaded at a time.\n",
              "const MAX_PAYLOAD_SIZE = 100 * 1024;\n",
              "\n",
              "function _uploadFiles(inputId, outputId) {\n",
              "  const steps = uploadFilesStep(inputId, outputId);\n",
              "  const outputElement = document.getElementById(outputId);\n",
              "  // Cache steps on the outputElement to make it available for the next call\n",
              "  // to uploadFilesContinue from Python.\n",
              "  outputElement.steps = steps;\n",
              "\n",
              "  return _uploadFilesContinue(outputId);\n",
              "}\n",
              "\n",
              "// This is roughly an async generator (not supported in the browser yet),\n",
              "// where there are multiple asynchronous steps and the Python side is going\n",
              "// to poll for completion of each step.\n",
              "// This uses a Promise to block the python side on completion of each step,\n",
              "// then passes the result of the previous step as the input to the next step.\n",
              "function _uploadFilesContinue(outputId) {\n",
              "  const outputElement = document.getElementById(outputId);\n",
              "  const steps = outputElement.steps;\n",
              "\n",
              "  const next = steps.next(outputElement.lastPromiseValue);\n",
              "  return Promise.resolve(next.value.promise).then((value) => {\n",
              "    // Cache the last promise value to make it available to the next\n",
              "    // step of the generator.\n",
              "    outputElement.lastPromiseValue = value;\n",
              "    return next.value.response;\n",
              "  });\n",
              "}\n",
              "\n",
              "/**\n",
              " * Generator function which is called between each async step of the upload\n",
              " * process.\n",
              " * @param {string} inputId Element ID of the input file picker element.\n",
              " * @param {string} outputId Element ID of the output display.\n",
              " * @return {!Iterable<!Object>} Iterable of next steps.\n",
              " */\n",
              "function* uploadFilesStep(inputId, outputId) {\n",
              "  const inputElement = document.getElementById(inputId);\n",
              "  inputElement.disabled = false;\n",
              "\n",
              "  const outputElement = document.getElementById(outputId);\n",
              "  outputElement.innerHTML = '';\n",
              "\n",
              "  const pickedPromise = new Promise((resolve) => {\n",
              "    inputElement.addEventListener('change', (e) => {\n",
              "      resolve(e.target.files);\n",
              "    });\n",
              "  });\n",
              "\n",
              "  const cancel = document.createElement('button');\n",
              "  inputElement.parentElement.appendChild(cancel);\n",
              "  cancel.textContent = 'Cancel upload';\n",
              "  const cancelPromise = new Promise((resolve) => {\n",
              "    cancel.onclick = () => {\n",
              "      resolve(null);\n",
              "    };\n",
              "  });\n",
              "\n",
              "  // Wait for the user to pick the files.\n",
              "  const files = yield {\n",
              "    promise: Promise.race([pickedPromise, cancelPromise]),\n",
              "    response: {\n",
              "      action: 'starting',\n",
              "    }\n",
              "  };\n",
              "\n",
              "  cancel.remove();\n",
              "\n",
              "  // Disable the input element since further picks are not allowed.\n",
              "  inputElement.disabled = true;\n",
              "\n",
              "  if (!files) {\n",
              "    return {\n",
              "      response: {\n",
              "        action: 'complete',\n",
              "      }\n",
              "    };\n",
              "  }\n",
              "\n",
              "  for (const file of files) {\n",
              "    const li = document.createElement('li');\n",
              "    li.append(span(file.name, {fontWeight: 'bold'}));\n",
              "    li.append(span(\n",
              "        `(${file.type || 'n/a'}) - ${file.size} bytes, ` +\n",
              "        `last modified: ${\n",
              "            file.lastModifiedDate ? file.lastModifiedDate.toLocaleDateString() :\n",
              "                                    'n/a'} - `));\n",
              "    const percent = span('0% done');\n",
              "    li.appendChild(percent);\n",
              "\n",
              "    outputElement.appendChild(li);\n",
              "\n",
              "    const fileDataPromise = new Promise((resolve) => {\n",
              "      const reader = new FileReader();\n",
              "      reader.onload = (e) => {\n",
              "        resolve(e.target.result);\n",
              "      };\n",
              "      reader.readAsArrayBuffer(file);\n",
              "    });\n",
              "    // Wait for the data to be ready.\n",
              "    let fileData = yield {\n",
              "      promise: fileDataPromise,\n",
              "      response: {\n",
              "        action: 'continue',\n",
              "      }\n",
              "    };\n",
              "\n",
              "    // Use a chunked sending to avoid message size limits. See b/62115660.\n",
              "    let position = 0;\n",
              "    do {\n",
              "      const length = Math.min(fileData.byteLength - position, MAX_PAYLOAD_SIZE);\n",
              "      const chunk = new Uint8Array(fileData, position, length);\n",
              "      position += length;\n",
              "\n",
              "      const base64 = btoa(String.fromCharCode.apply(null, chunk));\n",
              "      yield {\n",
              "        response: {\n",
              "          action: 'append',\n",
              "          file: file.name,\n",
              "          data: base64,\n",
              "        },\n",
              "      };\n",
              "\n",
              "      let percentDone = fileData.byteLength === 0 ?\n",
              "          100 :\n",
              "          Math.round((position / fileData.byteLength) * 100);\n",
              "      percent.textContent = `${percentDone}% done`;\n",
              "\n",
              "    } while (position < fileData.byteLength);\n",
              "  }\n",
              "\n",
              "  // All done.\n",
              "  yield {\n",
              "    response: {\n",
              "      action: 'complete',\n",
              "    }\n",
              "  };\n",
              "}\n",
              "\n",
              "scope.google = scope.google || {};\n",
              "scope.google.colab = scope.google.colab || {};\n",
              "scope.google.colab._files = {\n",
              "  _uploadFiles,\n",
              "  _uploadFilesContinue,\n",
              "};\n",
              "})(self);\n",
              "</script> "
            ]
          },
          "metadata": {}
        },
        {
          "output_type": "stream",
          "name": "stdout",
          "text": [
            "Saving Online Retail.xlsx to Online Retail.xlsx\n"
          ]
        }
      ]
    },
    {
      "cell_type": "code",
      "source": [
        "df = pd.read_excel(file_path, sheet_name='Online Retail')"
      ],
      "metadata": {
        "id": "ze5sZBhVih6V"
      },
      "execution_count": 11,
      "outputs": []
    },
    {
      "cell_type": "markdown",
      "source": [
        "##Data Cleaning"
      ],
      "metadata": {
        "id": "TJV7xoLni9_t"
      }
    },
    {
      "cell_type": "code",
      "source": [
        "# Remove rows with missing CustomerID\n",
        "df = df[df['CustomerID'].notnull()]\n",
        "\n",
        "# Remove cancelled orders (InvoiceNo starting with 'C')\n",
        "df = df[~df['InvoiceNo'].astype(str).str.startswith('C')]\n",
        "\n",
        "# Remove negative or zero quantities and unit prices\n",
        "df = df[(df['Quantity'] > 0) & (df['UnitPrice'] > 0)]\n",
        "\n",
        "# Create TotalPrice column\n",
        "df['TotalPrice'] = df['Quantity'] * df['UnitPrice']\n",
        "\n",
        "# Create Year-Month column\n",
        "df['InvoiceMonth'] = df['InvoiceDate'].dt.to_period('M')\n"
      ],
      "metadata": {
        "id": "X3bf02N1i_iG",
        "colab": {
          "base_uri": "https://localhost:8080/"
        },
        "outputId": "d30ff0bd-04bd-4c60-8910-4078560bf9ae"
      },
      "execution_count": 12,
      "outputs": [
        {
          "output_type": "stream",
          "name": "stderr",
          "text": [
            "/tmp/ipython-input-12-1285899963.py:11: SettingWithCopyWarning: \n",
            "A value is trying to be set on a copy of a slice from a DataFrame.\n",
            "Try using .loc[row_indexer,col_indexer] = value instead\n",
            "\n",
            "See the caveats in the documentation: https://pandas.pydata.org/pandas-docs/stable/user_guide/indexing.html#returning-a-view-versus-a-copy\n",
            "  df['TotalPrice'] = df['Quantity'] * df['UnitPrice']\n",
            "/tmp/ipython-input-12-1285899963.py:14: SettingWithCopyWarning: \n",
            "A value is trying to be set on a copy of a slice from a DataFrame.\n",
            "Try using .loc[row_indexer,col_indexer] = value instead\n",
            "\n",
            "See the caveats in the documentation: https://pandas.pydata.org/pandas-docs/stable/user_guide/indexing.html#returning-a-view-versus-a-copy\n",
            "  df['InvoiceMonth'] = df['InvoiceDate'].dt.to_period('M')\n"
          ]
        }
      ]
    },
    {
      "cell_type": "markdown",
      "source": [
        "## 5. Exploratory Data Analysis (EDA)"
      ],
      "metadata": {
        "id": "O_dMZFvmjFix"
      }
    },
    {
      "cell_type": "code",
      "source": [
        "# A. Sales Overview\n",
        "monthly_sales = df.groupby('InvoiceMonth')['TotalPrice'].sum()\n",
        "monthly_sales.plot(kind='line', title='Monthly Sales')\n",
        "plt.xlabel('Month')\n",
        "plt.ylabel('Total Sales')\n",
        "plt.show()\n",
        "\n",
        "# B. Top Selling Products\n",
        "top_products = df.groupby('Description')['Quantity'].sum().sort_values(ascending=False).head(10)\n",
        "top_products.plot(kind='bar', title='Top 10 Selling Products')\n",
        "plt.ylabel('Quantity Sold')\n",
        "plt.xticks(rotation=45)\n",
        "plt.show()\n",
        "\n",
        "# C. Country-wise Sales\n",
        "country_sales = df.groupby('Country')['TotalPrice'].sum().sort_values(ascending=False).head(10)\n",
        "country_sales.plot(kind='bar', title='Top 10 Countries by Sales')\n",
        "plt.ylabel('Sales')\n",
        "plt.xticks(rotation=45)\n",
        "plt.show()\n",
        "\n",
        "# D. Daily Sales Trend\n",
        "daily_sales = df.set_index('InvoiceDate').resample('D')['TotalPrice'].sum()\n",
        "daily_sales.plot(title='Daily Sales Trend', figsize=(12,5))\n",
        "plt.ylabel('Sales')\n",
        "plt.xlabel('Date')\n",
        "plt.show()"
      ],
      "metadata": {
        "colab": {
          "base_uri": "https://localhost:8080/",
          "height": 498
        },
        "id": "KXSQbcR3jJ6l",
        "outputId": "11cc833d-e26e-4e37-ed3a-b04deba0734d"
      },
      "execution_count": null,
      "outputs": [
        {
          "output_type": "display_data",
          "data": {
            "text/plain": [
              "<Figure size 640x480 with 1 Axes>"
            ],
            "image/png": "[encoded data removed]"
          },
          "metadata": {}
        }
      ]
    },
    {
      "cell_type": "markdown",
      "source": [
        "## 6. Feature Engineering (RFM Features)"
      ],
      "metadata": {
        "id": "vL4tg4CTk25o"
      }
    },
    {
      "cell_type": "code",
      "source": [
        "snapshot_date = df['InvoiceDate'].max() + pd.Timedelta(days=1)\n",
        "\n",
        "rfm = df.groupby('CustomerID').agg({\n",
        "    'InvoiceDate': lambda x: (snapshot_date - x.max()).days,\n",
        "    'InvoiceNo': 'nunique',\n",
        "    'TotalPrice': 'sum'\n",
        "}).rename(columns={'InvoiceDate': 'Recency', 'InvoiceNo': 'Frequency', 'TotalPrice': 'Monetary'})\n",
        "\n",
        "rfm.head()\n"
      ],
      "metadata": {
        "id": "Kiq2pvgMk77s"
      },
      "execution_count": null,
      "outputs": []
    },
    {
      "cell_type": "markdown",
      "source": [
        "##7. Preprocessing: Feature Scaling"
      ],
      "metadata": {
        "id": "ilyzXpYFk_dK"
      }
    },
    {
      "cell_type": "code",
      "source": [
        "scaler = StandardScaler()\n",
        "rfm_scaled = scaler.fit_transform(rfm)\n"
      ],
      "metadata": {
        "id": "5YxR3ROUlD1I"
      },
      "execution_count": null,
      "outputs": []
    },
    {
      "cell_type": "markdown",
      "source": [
        " ##8. Finding Ideal Number of Clusters"
      ],
      "metadata": {
        "id": "xY6PXMihlIAY"
      }
    },
    {
      "cell_type": "code",
      "source": [
        "##a. Elbow Method\n",
        "\n",
        "wcss = []\n",
        "for i in range(1, 11):\n",
        "    kmeans = KMeans(n_clusters=i, random_state=42)\n",
        "    kmeans.fit(rfm_scaled)\n",
        "    wcss.append(kmeans.inertia_)\n",
        "\n",
        "plt.plot(range(1, 11), wcss, marker='o')\n",
        "plt.title('Elbow Method')\n",
        "plt.xlabel('Number of Clusters')\n",
        "plt.ylabel('WCSS')\n",
        "plt.show()\n"
      ],
      "metadata": {
        "id": "u5x1xDX2lNV0"
      },
      "execution_count": null,
      "outputs": []
    },
    {
      "cell_type": "code",
      "source": [
        "##b. Hierarchical Clustering Dendrogram\n",
        "\n",
        "linked = linkage(rfm_scaled, method='ward')\n",
        "plt.figure(figsize=(10, 7))\n",
        "dendrogram(linked)\n",
        "plt.title('Dendrogram')\n",
        "plt.xlabel('Customers')\n",
        "plt.ylabel('Euclidean distances')\n",
        "plt.show()\n"
      ],
      "metadata": {
        "id": "jTAml1Q9lWg9"
      },
      "execution_count": null,
      "outputs": []
    },
    {
      "cell_type": "markdown",
      "source": [
        "##9. Model Implementation and Interpretation"
      ],
      "metadata": {
        "id": "s6jW-Ukold4i"
      }
    },
    {
      "cell_type": "code",
      "source": [
        "# Apply KMeans with optimal clusters (e.g., k=4 from elbow)\n",
        "kmeans = KMeans(n_clusters=4, random_state=42)\n",
        "rfm['Cluster'] = kmeans.fit_predict(rfm_scaled)\n",
        "\n",
        "# Plot clusters\n",
        "plt.figure(figsize=(8, 6))\n",
        "sns.scatterplot(data=rfm, x='Recency', y='Monetary', hue='Cluster', palette='tab10')\n",
        "plt.title('Customer Segments')\n",
        "plt.show()\n"
      ],
      "metadata": {
        "id": "s0DTVG20lgwR"
      },
      "execution_count": null,
      "outputs": []
    },
    {
      "cell_type": "markdown",
      "source": [
        "##10. Insights & Conclusion\n",
        "Cluster 0: High monetary, low recency → Loyal High Spenders.\n",
        "\n",
        "Cluster 1: High recency, low monetary → Lost Customers.\n",
        "\n",
        "Cluster 2: Low frequency, moderate monetary → Occasional Buyers.\n",
        "\n",
        "Cluster 3: High frequency, average spenders → Engaged Regulars."
      ],
      "metadata": {
        "id": "BDAHoEYQlkSh"
      }
    },
    {
      "cell_type": "markdown",
      "source": [
        "##11. Application in Industry\n",
        "This segmentation helps identify:\n",
        "\n",
        "Who to retain (high-value customers).\n",
        "\n",
        "Who to reactivate (high recency).\n",
        "\n",
        "Whom to reward with promotions (frequent buyers).\n",
        "\n",
        "Whom to target with upselling (moderate spenders)."
      ],
      "metadata": {
        "id": "H8BrRctCloXO"
      }
    },
    {
      "cell_type": "markdown",
      "source": [
        "##12. GitHub Commits Strategy\n",
        "📍 Commit 1: Initial commit with data and project setup.\n",
        "\n",
        "📍 Commit 2: Data cleaning and EDA complete.\n",
        "\n",
        "📍 Commit 3: Feature engineering and scaling.\n",
        "\n",
        "📍 Commit 4: Clustering analysis (elbow + dendrogram).\n",
        "\n",
        "📍 Commit 5: Final model and business interpretation.\n",
        "\n",
        "📍 Commit 6: Presentation-ready notebook and charts.\n",
        "\n"
      ],
      "metadata": {
        "id": "OW9VxtnTpDm8"
      }
    }
  ]
}